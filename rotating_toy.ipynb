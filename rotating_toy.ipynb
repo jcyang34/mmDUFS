{
 "cells": [
  {
   "cell_type": "code",
   "execution_count": 1,
   "metadata": {},
   "outputs": [
    {
     "name": "stderr",
     "output_type": "stream",
     "text": [
      "Using TensorFlow backend.\n"
     ]
    }
   ],
   "source": [
    "# load packages:\n",
    "# package requirement: tensorflow-gpu 1.15.2, keras 2.3.1 munkres\n",
    "import numpy as np\n",
    "import matplotlib as mpl\n",
    "import matplotlib.pyplot as plt\n",
    "import matplotlib.cm as cm\n",
    "import matplotlib.patches as pathces\n",
    "import sys\n",
    "\n",
    "from mmDUFS import JointModel\n",
    "from mmDUFS import DiffModel\n",
    "from mmDUFS import DataSet\n",
    "\n",
    "from baselines import *\n",
    "\n",
    "from sklearn.metrics import f1_score\n",
    "from scipy import stats"
   ]
  },
  {
   "cell_type": "code",
   "execution_count": 2,
   "metadata": {},
   "outputs": [
    {
     "name": "stdout",
     "output_type": "stream",
     "text": [
      "Thu Jun  1 01:39:45 2023       \n",
      "+-----------------------------------------------------------------------------+\n",
      "| NVIDIA-SMI 520.61.05    Driver Version: 520.61.05    CUDA Version: 11.8     |\n",
      "|-------------------------------+----------------------+----------------------+\n",
      "| GPU  Name        Persistence-M| Bus-Id        Disp.A | Volatile Uncorr. ECC |\n",
      "| Fan  Temp  Perf  Pwr:Usage/Cap|         Memory-Usage | GPU-Util  Compute M. |\n",
      "|                               |                      |               MIG M. |\n",
      "|===============================+======================+======================|\n",
      "|   0  NVIDIA GeForce ...  Off  | 00000000:1A:00.0 Off |                  N/A |\n",
      "| 29%   31C    P8    15W / 250W |  10775MiB / 11264MiB |      0%      Default |\n",
      "|                               |                      |                  N/A |\n",
      "+-------------------------------+----------------------+----------------------+\n",
      "|   1  NVIDIA GeForce ...  Off  | 00000000:1B:00.0 Off |                  N/A |\n",
      "| 31%   54C    P2   118W / 250W |  10826MiB / 11264MiB |     51%      Default |\n",
      "|                               |                      |                  N/A |\n",
      "+-------------------------------+----------------------+----------------------+\n",
      "|   2  NVIDIA GeForce ...  Off  | 00000000:60:00.0 Off |                  N/A |\n",
      "| 29%   30C    P8    20W / 250W |      8MiB / 11264MiB |      0%      Default |\n",
      "|                               |                      |                  N/A |\n",
      "+-------------------------------+----------------------+----------------------+\n",
      "|   3  NVIDIA GeForce ...  Off  | 00000000:61:00.0 Off |                  N/A |\n",
      "|  0%   33C    P8    14W / 250W |      8MiB / 11264MiB |      0%      Default |\n",
      "|                               |                      |                  N/A |\n",
      "+-------------------------------+----------------------+----------------------+\n",
      "|   4  NVIDIA GeForce ...  Off  | 00000000:B1:00.0 Off |                  N/A |\n",
      "| 30%   29C    P8     8W / 250W |    514MiB / 11264MiB |      0%      Default |\n",
      "|                               |                      |                  N/A |\n",
      "+-------------------------------+----------------------+----------------------+\n",
      "|   5  NVIDIA GeForce ...  Off  | 00000000:B2:00.0 Off |                  N/A |\n",
      "| 29%   31C    P8    14W / 250W |   1048MiB / 11264MiB |      0%      Default |\n",
      "|                               |                      |                  N/A |\n",
      "+-------------------------------+----------------------+----------------------+\n",
      "|   6  NVIDIA GeForce ...  Off  | 00000000:DA:00.0 Off |                  N/A |\n",
      "| 28%   24C    P8    18W / 250W |    388MiB / 11264MiB |      0%      Default |\n",
      "|                               |                      |                  N/A |\n",
      "+-------------------------------+----------------------+----------------------+\n",
      "|   7  NVIDIA GeForce ...  Off  | 00000000:DB:00.0 Off |                  N/A |\n",
      "| 30%   26C    P8    15W / 250W |  10482MiB / 11264MiB |      0%      Default |\n",
      "|                               |                      |                  N/A |\n",
      "+-------------------------------+----------------------+----------------------+\n",
      "                                                                               \n",
      "+-----------------------------------------------------------------------------+\n",
      "| Processes:                                                                  |\n",
      "|  GPU   GI   CI        PID   Type   Process name                  GPU Memory |\n",
      "|        ID   ID                                                   Usage      |\n",
      "|=============================================================================|\n",
      "+-----------------------------------------------------------------------------+\n"
     ]
    }
   ],
   "source": [
    "!nvidia-smi"
   ]
  },
  {
   "cell_type": "code",
   "execution_count": 3,
   "metadata": {},
   "outputs": [],
   "source": [
    "import os\n",
    "os.environ['CUDA_VISIBLE_DEVICES'] = '2'"
   ]
  },
  {
   "cell_type": "code",
   "execution_count": 4,
   "metadata": {},
   "outputs": [],
   "source": [
    "# load the data\n",
    "toy_data = np.load(\"./datasets/rotating_toy.npz\",allow_pickle=True)\n",
    "X_z=toy_data['X']\n",
    "Y_z=toy_data['Y']\n",
    "gt_feat_joint_X=toy_data['gt_feat_joint_X']\n",
    "gt_feat_joint_Y=toy_data['gt_feat_joint_Y']\n",
    "gt_feat_diff_X=toy_data['gt_feat_diff_X']\n",
    "gt_feat_diff_Y=toy_data['gt_feat_diff_Y']"
   ]
  },
  {
   "cell_type": "code",
   "execution_count": 5,
   "metadata": {},
   "outputs": [],
   "source": [
    "# run baselines\n",
    "baseline_f1 = fs_eval(X = X_z,\n",
    "        Y =  Y_z,\n",
    "        label_true_X = gt_feat_joint_X,\n",
    "        label_true_Y = gt_feat_joint_Y,\n",
    "        baselines = [\"concat\",\"sum\",\"prod\"],\n",
    "        nx=np.sum(gt_feat_joint_X == 1),\n",
    "        ny=np.sum(gt_feat_joint_Y == 1), \n",
    "        knn=2,fac=5, laplacian=\"normalized\")\n",
    "   "
   ]
  },
  {
   "cell_type": "code",
   "execution_count": 6,
   "metadata": {},
   "outputs": [
    {
     "data": {
      "text/plain": [
       "{'concat': {'X': 0.23665893271461716, 'Y': 0.3850574712643678},\n",
       " 'sum': {'X': 0.5498839907192575, 'Y': 0.6925287356321839},\n",
       " 'prod': {'X': 0.5498839907192575, 'Y': 0.6925287356321839}}"
      ]
     },
     "execution_count": 6,
     "metadata": {},
     "output_type": "execute_result"
    }
   ],
   "source": [
    "baseline_f1"
   ]
  },
  {
   "cell_type": "code",
   "execution_count": null,
   "metadata": {},
   "outputs": [],
   "source": [
    "# run mmdufs with shared op"
   ]
  },
  {
   "cell_type": "code",
   "execution_count": 7,
   "metadata": {},
   "outputs": [],
   "source": [
    "shared_mmdufs_params = {\n",
    "    \"lam1\":2e-1, # lambda x\n",
    "    \"lam2\":2e-1, # lambda y\n",
    "    \"batch_size\":X_z.shape[0], # full batch\n",
    "    \"const2\":1e3\n",
    "}\n",
    "shared_mmdfus_learning_rate = 2\n",
    "display_step = 1000\n",
    "epochs = 20000"
   ]
  },
  {
   "cell_type": "code",
   "execution_count": 8,
   "metadata": {
    "scrolled": true
   },
   "outputs": [
    {
     "name": "stdout",
     "output_type": "stream",
     "text": [
      "WARNING:tensorflow:From /tf/github_proj/mvDUFS/mvDUFS/uai2023/Code/mmDUFS.py:379: The name tf.Session is deprecated. Please use tf.compat.v1.Session instead.\n",
      "\n",
      "WARNING:tensorflow:From /tf/github_proj/mvDUFS/mvDUFS/uai2023/Code/mmDUFS.py:381: The name tf.placeholder is deprecated. Please use tf.compat.v1.placeholder instead.\n",
      "\n",
      "WARNING:tensorflow:From /tf/github_proj/mvDUFS/mvDUFS/uai2023/Code/mmDUFS.py:390: The name tf.variable_scope is deprecated. Please use tf.compat.v1.variable_scope instead.\n",
      "\n",
      "WARNING:tensorflow:From /tf/github_proj/mvDUFS/mvDUFS/uai2023/Code/mmDUFS.py:390: The name tf.AUTO_REUSE is deprecated. Please use tf.compat.v1.AUTO_REUSE instead.\n",
      "\n",
      "WARNING:tensorflow:From /tf/github_proj/mvDUFS/mvDUFS/uai2023/Code/mmDUFS.py:391: The name tf.get_variable is deprecated. Please use tf.compat.v1.get_variable instead.\n",
      "\n",
      "WARNING:tensorflow:From /tf/github_proj/mvDUFS/mvDUFS/uai2023/Code/mmDUFS.py:498: The name tf.random_normal is deprecated. Please use tf.random.normal instead.\n",
      "\n",
      "WARNING:tensorflow:\n",
      "The TensorFlow contrib module will not be included in TensorFlow 2.0.\n",
      "For more information, please see:\n",
      "  * https://github.com/tensorflow/community/blob/master/rfcs/20180907-contrib-sunset.md\n",
      "  * https://github.com/tensorflow/addons\n",
      "  * https://github.com/tensorflow/io (for I/O related ops)\n",
      "If you depend on functionality not listed there, please file an issue.\n",
      "\n",
      "WARNING:tensorflow:From /tf/github_proj/mvDUFS/mvDUFS/uai2023/Code/mmDUFS.py:408: The name tf.erf is deprecated. Please use tf.math.erf instead.\n",
      "\n",
      "WARNING:tensorflow:From /tf/github_proj/mvDUFS/mvDUFS/uai2023/Code/mmDUFS.py:436: The name tf.train.GradientDescentOptimizer is deprecated. Please use tf.compat.v1.train.GradientDescentOptimizer instead.\n",
      "\n",
      "WARNING:tensorflow:From /usr/local/lib/python3.6/dist-packages/tensorflow_core/python/ops/math_grad.py:1375: where (from tensorflow.python.ops.array_ops) is deprecated and will be removed in a future version.\n",
      "Instructions for updating:\n",
      "Use tf.where in 2.0, which has the same broadcast rule as np.where\n",
      "WARNING:tensorflow:From /tf/github_proj/mvDUFS/mvDUFS/uai2023/Code/mmDUFS.py:442: The name tf.global_variables_initializer is deprecated. Please use tf.compat.v1.global_variables_initializer instead.\n",
      "\n",
      "WARNING:tensorflow:From /tf/github_proj/mvDUFS/mvDUFS/uai2023/Code/mmDUFS.py:444: The name tf.train.Saver is deprecated. Please use tf.compat.v1.train.Saver instead.\n",
      "\n",
      "WARNING:tensorflow:From /tf/github_proj/mvDUFS/mvDUFS/uai2023/Code/mmDUFS.py:461: The name tf.set_random_seed is deprecated. Please use tf.compat.v1.set_random_seed instead.\n",
      "\n",
      "num_samples : 4050\n",
      "Epoch: 1000 loss= 0.195578963 score1= -0.066082649 score2= -0.067704506 reg1= 0.823448539 reg2= 0.823382080 f1 - Mod1 =  0.2471 f1 - Mod2 =  0.1674\n",
      "Epoch: 2000 loss= 0.192074656 score1= -0.064861238 score2= -0.064921051 reg1= 0.804769874 reg2= 0.804514766 f1 - Mod1 =  0.2174 f1 - Mod2 =  0.1425\n",
      "Epoch: 3000 loss= 0.185475126 score1= -0.064416528 score2= -0.064154439 reg1= 0.785388768 reg2= 0.784841716 f1 - Mod1 =  0.2178 f1 - Mod2 =  0.1364\n",
      "Epoch: 4000 loss= 0.181906357 score1= -0.061202880 score2= -0.062853791 reg1= 0.765357018 reg2= 0.764458060 f1 - Mod1 =  0.2481 f1 - Mod2 =  0.1435\n",
      "Epoch: 5000 loss= 0.174187779 score1= -0.060164277 score2= -0.063270003 reg1= 0.744701087 reg2= 0.743409157 f1 - Mod1 =  0.2567 f1 - Mod2 =  0.1495\n",
      "Epoch: 6000 loss= 0.167713284 score1= -0.059431128 score2= -0.061886355 reg1= 0.723469973 reg2= 0.721683800 f1 - Mod1 =  0.2760 f1 - Mod2 =  0.1737\n",
      "Epoch: 7000 loss= 0.164674342 score1= -0.057477243 score2= -0.058060184 reg1= 0.701707065 reg2= 0.699351788 f1 - Mod1 =  0.3181 f1 - Mod2 =  0.2008\n",
      "Epoch: 8000 loss= 0.155177847 score1= -0.058927931 score2= -0.057041790 reg1= 0.679307520 reg2= 0.676430285 f1 - Mod1 =  0.3504 f1 - Mod2 =  0.2539\n",
      "Epoch: 9000 loss= 0.150106162 score1= -0.056556515 score2= -0.055082690 reg1= 0.656113029 reg2= 0.652613759 f1 - Mod1 =  0.4067 f1 - Mod2 =  0.3125\n",
      "Epoch: 10000 loss= 0.135973558 score1= -0.058481269 score2= -0.057038762 reg1= 0.630748391 reg2= 0.626719534 f1 - Mod1 =  0.4907 f1 - Mod2 =  0.3769\n",
      "Epoch: 11000 loss= 0.102817938 score1= -0.068477556 score2= -0.066102684 reg1= 0.595845342 reg2= 0.591145515 f1 - Mod1 =  0.6088 f1 - Mod2 =  0.4773\n",
      "Epoch: 12000 loss= -0.158505380 score1= -0.182871640 score2= -0.172492579 reg1= 0.494705349 reg2= 0.489588708 f1 - Mod1 =  0.7359 f1 - Mod2 =  0.6312\n",
      "Epoch: 13000 loss= -103.398254395 score1= -50.317329407 score2= -53.115554810 reg1= 0.084791742 reg2= 0.088353768 f1 - Mod1 =  0.8301 f1 - Mod2 =  0.7549\n",
      "Epoch: 14000 loss= -109.319465637 score1= -53.069351196 score2= -56.284057617 reg1= 0.082775809 reg2= 0.086953767 f1 - Mod1 =  0.8261 f1 - Mod2 =  0.7608\n",
      "Epoch: 15000 loss= -110.754745483 score1= -53.774848938 score2= -57.013702393 reg1= 0.082330950 reg2= 0.086716071 f1 - Mod1 =  0.8257 f1 - Mod2 =  0.7618\n",
      "Epoch: 16000 loss= -112.924514771 score1= -54.940990448 score2= -58.017250061 reg1= 0.082317449 reg2= 0.086282089 f1 - Mod1 =  0.8257 f1 - Mod2 =  0.7638\n",
      "Epoch: 17000 loss= -112.963066101 score1= -54.864238739 score2= -58.132503510 reg1= 0.082103200 reg2= 0.086271308 f1 - Mod1 =  0.8242 f1 - Mod2 =  0.7638\n",
      "Epoch: 18000 loss= -114.871398926 score1= -55.755191803 score2= -59.149799347 reg1= 0.081892751 reg2= 0.086058468 f1 - Mod1 =  0.8252 f1 - Mod2 =  0.7648\n",
      "Epoch: 19000 loss= -114.871742249 score1= -55.755390167 score2= -59.149944305 reg1= 0.081890367 reg2= 0.086056940 f1 - Mod1 =  0.8252 f1 - Mod2 =  0.7648\n",
      "Epoch: 20000 loss= -114.873725891 score1= -55.756370544 score2= -59.150947571 reg1= 0.081889041 reg2= 0.086055614 f1 - Mod1 =  0.8252 f1 - Mod2 =  0.7648\n",
      "Optimization Finished!\n"
     ]
    }
   ],
   "source": [
    "dataset = DataSet(**{'_data1':X_z,\n",
    "                         '_data2':Y_z}\n",
    "                         )\n",
    "\n",
    "shared_mmdufs_params[\"input_dim1\"] = X_z.shape[1]\n",
    "shared_mmdufs_params[\"input_dim2\"] = Y_z.shape[1]\n",
    "    \n",
    "model = JointModel(**shared_mmdufs_params) \n",
    "    \n",
    "shared_result= model.train(dataset,\n",
    "                            learning_rate=shared_mmdfus_learning_rate,\n",
    "                        feature_label1 = gt_feat_joint_X, \n",
    "                        feature_label2 = gt_feat_joint_Y,\n",
    "                        display_step=display_step, \n",
    "                        num_epoch=epochs) "
   ]
  },
  {
   "cell_type": "code",
   "execution_count": 16,
   "metadata": {},
   "outputs": [
    {
     "data": {
      "text/plain": [
       "0.8252427184466019"
      ]
     },
     "execution_count": 16,
     "metadata": {},
     "output_type": "execute_result"
    }
   ],
   "source": [
    "f1_score(gt_feat_joint_X,model.get_prob_alpha1() == 1)"
   ]
  },
  {
   "cell_type": "code",
   "execution_count": 17,
   "metadata": {},
   "outputs": [
    {
     "data": {
      "text/plain": [
       "0.7647831800262812"
      ]
     },
     "execution_count": 17,
     "metadata": {},
     "output_type": "execute_result"
    }
   ],
   "source": [
    "f1_score(gt_feat_joint_Y,model.get_prob_alpha2() == 1)"
   ]
  },
  {
   "cell_type": "code",
   "execution_count": null,
   "metadata": {},
   "outputs": [],
   "source": [
    "# run mmdufs with diff op"
   ]
  },
  {
   "cell_type": "code",
   "execution_count": 18,
   "metadata": {},
   "outputs": [],
   "source": [
    "diff_mmdufs_params = {\n",
    "    \"lam1\":2, # lambda x\n",
    "    \"batch_size\":X_z.shape[0], # full batch\n",
    "    \"const\":3,\n",
    "    \"const2\":1e3\n",
    "}\n",
    "diff_mmdfus_learning_rate = 2\n",
    "display_step = 1000\n",
    "epochs = 10000"
   ]
  },
  {
   "cell_type": "code",
   "execution_count": 19,
   "metadata": {},
   "outputs": [],
   "source": [
    "diff_mmdufs_params[\"input_dim1\"] = X_z.shape[1]\n",
    "diff_mmdufs_params[\"input_dim2\"] = Y_z.shape[1]"
   ]
  },
  {
   "cell_type": "code",
   "execution_count": 20,
   "metadata": {},
   "outputs": [
    {
     "name": "stdout",
     "output_type": "stream",
     "text": [
      "num_samples : 4050\n",
      "Epoch: 1000 loss= -12.984756470 score1= -13.390271187 reg1= 0.202757224 f1= 0.8727\n",
      "Epoch: 2000 loss= -13.451340675 score1= -13.841081619 reg1= 0.194870621 f1= 0.8763\n",
      "Epoch: 3000 loss= -13.634535789 score1= -14.021030426 reg1= 0.193247125 f1= 0.8789\n",
      "Epoch: 4000 loss= -13.645084381 score1= -14.031055450 reg1= 0.192985579 f1= 0.8789\n",
      "Epoch: 5000 loss= -13.654281616 score1= -14.039600372 reg1= 0.192659169 f1= 0.8794\n",
      "Epoch: 6000 loss= -13.660076141 score1= -14.045257568 reg1= 0.192590684 f1= 0.8794\n",
      "Epoch: 7000 loss= -13.658875465 score1= -14.043967247 reg1= 0.192546055 f1= 0.8794\n",
      "Epoch: 8000 loss= -13.696744919 score1= -14.081356049 reg1= 0.192305684 f1= 0.8800\n",
      "Epoch: 9000 loss= -13.697546005 score1= -14.082098961 reg1= 0.192276374 f1= 0.8800\n",
      "Epoch: 10000 loss= -13.696771622 score1= -14.081283569 reg1= 0.192255899 f1= 0.8800\n",
      "Optimization Finished!\n"
     ]
    }
   ],
   "source": [
    "dataset = DataSet(**{'_data1':X_z,\n",
    "                         '_data2':Y_z,\n",
    "                    })\n",
    "    \n",
    "diff_model1 = DiffModel(**diff_mmdufs_params) \n",
    "    \n",
    "diff_result1= diff_model1.train(dataset,\n",
    "                              learning_rate=diff_mmdfus_learning_rate,\n",
    "                        feature_label = gt_feat_diff_X.reshape(-1), \n",
    "                        display_step=display_step, \n",
    "                        num_epoch=epochs) #30000\n",
    "  "
   ]
  },
  {
   "cell_type": "code",
   "execution_count": 21,
   "metadata": {},
   "outputs": [
    {
     "data": {
      "text/plain": [
       "0.8799526907155529"
      ]
     },
     "execution_count": 21,
     "metadata": {},
     "output_type": "execute_result"
    }
   ],
   "source": [
    "f1_score(gt_feat_diff_X,1*(diff_model1.get_prob_alpha1() == 1))"
   ]
  },
  {
   "cell_type": "code",
   "execution_count": 22,
   "metadata": {},
   "outputs": [],
   "source": [
    "diff_mmdufs_params = {\n",
    "    \"lam1\":2, # lambda x\n",
    "    \"batch_size\":X_z.shape[0], # full batch\n",
    "    \"const\":3,\n",
    "    \"const2\":1e3\n",
    "}\n",
    "diff_mmdfus_learning_rate = 2\n",
    "display_step = 1000\n",
    "epochs = 10000"
   ]
  },
  {
   "cell_type": "code",
   "execution_count": 23,
   "metadata": {},
   "outputs": [],
   "source": [
    "diff_mmdufs_params[\"input_dim1\"] = Y_z.shape[1]\n",
    "diff_mmdufs_params[\"input_dim2\"] = X_z.shape[1]"
   ]
  },
  {
   "cell_type": "code",
   "execution_count": 24,
   "metadata": {},
   "outputs": [
    {
     "name": "stdout",
     "output_type": "stream",
     "text": [
      "num_samples : 4050\n",
      "Epoch: 1000 loss= 0.330438554 score1= -0.648107588 reg1= 0.489273071 f1= 0.6575\n",
      "Epoch: 2000 loss= -12.149414062 score1= -12.469688416 reg1= 0.160136968 f1= 0.7415\n",
      "Epoch: 3000 loss= -12.188891411 score1= -12.507352829 reg1= 0.159230575 f1= 0.7415\n",
      "Epoch: 4000 loss= -12.212779045 score1= -12.530331612 reg1= 0.158776402 f1= 0.7419\n",
      "Epoch: 5000 loss= -12.221035957 score1= -12.538360596 reg1= 0.158662468 f1= 0.7419\n",
      "Epoch: 6000 loss= -12.297073364 score1= -12.613844872 reg1= 0.158385903 f1= 0.7424\n",
      "Epoch: 7000 loss= -12.299599648 score1= -12.616278648 reg1= 0.158339724 f1= 0.7424\n",
      "Epoch: 8000 loss= -12.300900459 score1= -12.617516518 reg1= 0.158307850 f1= 0.7424\n",
      "Epoch: 9000 loss= -12.344826698 score1= -12.660978317 reg1= 0.158075601 f1= 0.7429\n",
      "Epoch: 10000 loss= -12.347266197 score1= -12.663382530 reg1= 0.158058167 f1= 0.7429\n",
      "Optimization Finished!\n"
     ]
    }
   ],
   "source": [
    "dataset = DataSet(**{'_data1':Y_z,\n",
    "                         '_data2':X_z,\n",
    "                    })\n",
    "    \n",
    "diff_model2 = DiffModel(**diff_mmdufs_params) \n",
    "    \n",
    "diff_result2 = diff_model2.train(dataset,\n",
    "                              learning_rate=diff_mmdfus_learning_rate,\n",
    "                        feature_label = gt_feat_diff_Y.reshape(-1), \n",
    "                        display_step=display_step, \n",
    "                        num_epoch=epochs) #30000\n",
    "  "
   ]
  },
  {
   "cell_type": "code",
   "execution_count": 25,
   "metadata": {},
   "outputs": [
    {
     "data": {
      "text/plain": [
       "0.7428571428571428"
      ]
     },
     "execution_count": 25,
     "metadata": {},
     "output_type": "execute_result"
    }
   ],
   "source": [
    "f1_score(gt_feat_diff_Y,1*(diff_model2.get_prob_alpha1() == 1))"
   ]
  }
 ],
 "metadata": {
  "kernelspec": {
   "display_name": "Python 3",
   "language": "python",
   "name": "python3"
  },
  "language_info": {
   "codemirror_mode": {
    "name": "ipython",
    "version": 3
   },
   "file_extension": ".py",
   "mimetype": "text/x-python",
   "name": "python",
   "nbconvert_exporter": "python",
   "pygments_lexer": "ipython3",
   "version": "3.6.9"
  }
 },
 "nbformat": 4,
 "nbformat_minor": 4
}
