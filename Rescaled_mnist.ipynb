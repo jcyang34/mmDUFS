{
 "cells": [
  {
   "cell_type": "code",
   "execution_count": 1,
   "metadata": {},
   "outputs": [
    {
     "name": "stderr",
     "output_type": "stream",
     "text": [
      "Using TensorFlow backend.\n"
     ]
    }
   ],
   "source": [
    "# load packages:\n",
    "# package requirement: tensorflow-gpu 1.15.2, keras 2.3.1 munkres\n",
    "import numpy as np\n",
    "import matplotlib as mpl\n",
    "import matplotlib.pyplot as plt\n",
    "import matplotlib.cm as cm\n",
    "import matplotlib.patches as pathces\n",
    "import sys\n",
    "\n",
    "from mmDUFS import JointModel\n",
    "from mmDUFS import DiffModel\n",
    "from mmDUFS import DataSet\n",
    "\n",
    "from baselines import *\n",
    "\n",
    "from sklearn.metrics import f1_score\n",
    "from scipy import stats"
   ]
  },
  {
   "cell_type": "code",
   "execution_count": 2,
   "metadata": {},
   "outputs": [
    {
     "name": "stdout",
     "output_type": "stream",
     "text": [
      "Thu Jun  1 15:43:40 2023       \n",
      "+-----------------------------------------------------------------------------+\n",
      "| NVIDIA-SMI 520.61.05    Driver Version: 520.61.05    CUDA Version: 11.8     |\n",
      "|-------------------------------+----------------------+----------------------+\n",
      "| GPU  Name        Persistence-M| Bus-Id        Disp.A | Volatile Uncorr. ECC |\n",
      "| Fan  Temp  Perf  Pwr:Usage/Cap|         Memory-Usage | GPU-Util  Compute M. |\n",
      "|                               |                      |               MIG M. |\n",
      "|===============================+======================+======================|\n",
      "|   0  NVIDIA GeForce ...  Off  | 00000000:1A:00.0 Off |                  N/A |\n",
      "| 29%   29C    P8    15W / 250W |    817MiB / 11264MiB |      0%      Default |\n",
      "|                               |                      |                  N/A |\n",
      "+-------------------------------+----------------------+----------------------+\n",
      "|   1  NVIDIA GeForce ...  Off  | 00000000:1B:00.0 Off |                  N/A |\n",
      "| 29%   28C    P8    11W / 250W |   1844MiB / 11264MiB |      0%      Default |\n",
      "|                               |                      |                  N/A |\n",
      "+-------------------------------+----------------------+----------------------+\n",
      "|   2  NVIDIA GeForce ...  Off  | 00000000:60:00.0 Off |                  N/A |\n",
      "| 37%   60C    P2    93W / 250W |  10734MiB / 11264MiB |     30%      Default |\n",
      "|                               |                      |                  N/A |\n",
      "+-------------------------------+----------------------+----------------------+\n",
      "|   3  NVIDIA GeForce ...  Off  | 00000000:61:00.0 Off |                  N/A |\n",
      "|  0%   35C    P8    18W / 250W |      8MiB / 11264MiB |      0%      Default |\n",
      "|                               |                      |                  N/A |\n",
      "+-------------------------------+----------------------+----------------------+\n",
      "|   4  NVIDIA GeForce ...  Off  | 00000000:B1:00.0 Off |                  N/A |\n",
      "| 30%   28C    P8     7W / 250W |    514MiB / 11264MiB |      0%      Default |\n",
      "|                               |                      |                  N/A |\n",
      "+-------------------------------+----------------------+----------------------+\n",
      "|   5  NVIDIA GeForce ...  Off  | 00000000:B2:00.0 Off |                  N/A |\n",
      "| 29%   30C    P8    14W / 250W |   1048MiB / 11264MiB |      0%      Default |\n",
      "|                               |                      |                  N/A |\n",
      "+-------------------------------+----------------------+----------------------+\n",
      "|   6  NVIDIA GeForce ...  Off  | 00000000:DA:00.0 Off |                  N/A |\n",
      "| 29%   23C    P8    19W / 250W |    388MiB / 11264MiB |      0%      Default |\n",
      "|                               |                      |                  N/A |\n",
      "+-------------------------------+----------------------+----------------------+\n",
      "|   7  NVIDIA GeForce ...  Off  | 00000000:DB:00.0 Off |                  N/A |\n",
      "| 30%   25C    P8    16W / 250W |  10482MiB / 11264MiB |      0%      Default |\n",
      "|                               |                      |                  N/A |\n",
      "+-------------------------------+----------------------+----------------------+\n",
      "                                                                               \n",
      "+-----------------------------------------------------------------------------+\n",
      "| Processes:                                                                  |\n",
      "|  GPU   GI   CI        PID   Type   Process name                  GPU Memory |\n",
      "|        ID   ID                                                   Usage      |\n",
      "|=============================================================================|\n",
      "+-----------------------------------------------------------------------------+\n"
     ]
    }
   ],
   "source": [
    "!nvidia-smi"
   ]
  },
  {
   "cell_type": "code",
   "execution_count": 3,
   "metadata": {},
   "outputs": [],
   "source": [
    "import os\n",
    "os.environ['CUDA_VISIBLE_DEVICES'] = '0'"
   ]
  },
  {
   "cell_type": "code",
   "execution_count": 7,
   "metadata": {},
   "outputs": [],
   "source": [
    "# load the data\n",
    "rescaled_data = np.load(\"./datasets/rescaled_mnist.npz\",allow_pickle=True)\n",
    "X_z=rescaled_data['X']\n",
    "Y_z=rescaled_data['Y']\n",
    "gt_feat_joint_X=rescaled_data['gt_feat_joint_X']\n",
    "gt_feat_joint_Y=rescaled_data['gt_feat_joint_Y']\n",
    "gt_feat_diff_X=rescaled_data['gt_feat_diff_X']\n",
    "gt_feat_diff_Y=rescaled_data['gt_feat_diff_Y']"
   ]
  },
  {
   "cell_type": "code",
   "execution_count": 8,
   "metadata": {},
   "outputs": [],
   "source": [
    "# run baselines\n",
    "baseline_f1 = fs_eval(X = X_z,\n",
    "        Y =  Y_z,\n",
    "        label_true_X = gt_feat_joint_X.reshape(-1),\n",
    "        label_true_Y = gt_feat_joint_Y.reshape(-1),\n",
    "        baselines = [\"concat\",\"sum\",\"prod\"],\n",
    "        nx=np.sum(gt_feat_joint_X == 1),\n",
    "        ny=np.sum(gt_feat_joint_Y == 1), \n",
    "        knn=2,fac=5, laplacian=\"normalized\")\n",
    "   "
   ]
  },
  {
   "cell_type": "code",
   "execution_count": 9,
   "metadata": {},
   "outputs": [
    {
     "data": {
      "text/plain": [
       "{'concat': {'X': 0.35465116279069764, 'Y': 0.48258706467661694},\n",
       " 'sum': {'X': 0.5523255813953488, 'Y': 0.6169154228855721},\n",
       " 'prod': {'X': 0.5523255813953488, 'Y': 0.6169154228855721}}"
      ]
     },
     "execution_count": 9,
     "metadata": {},
     "output_type": "execute_result"
    }
   ],
   "source": [
    "baseline_f1"
   ]
  },
  {
   "cell_type": "code",
   "execution_count": 8,
   "metadata": {},
   "outputs": [],
   "source": [
    "# run mmDUFS with the shared op"
   ]
  },
  {
   "cell_type": "code",
   "execution_count": 10,
   "metadata": {},
   "outputs": [],
   "source": [
    "shared_mmdufs_params = {\n",
    "    \"lam1\":1e-1, # lambda x\n",
    "    \"lam2\":1e-1, # lambda y\n",
    "    \"batch_size\":X_z.shape[0], # full batch\n",
    "    \"const2\":1e2\n",
    "}\n",
    "shared_mmdfus_learning_rate = 2\n",
    "display_step = 1000\n",
    "epochs = 10000"
   ]
  },
  {
   "cell_type": "code",
   "execution_count": 11,
   "metadata": {
    "scrolled": true
   },
   "outputs": [
    {
     "name": "stdout",
     "output_type": "stream",
     "text": [
      "WARNING:tensorflow:From /tf/github_proj/mvDUFS/mvDUFS/uai2023/Code/mmDUFS.py:379: The name tf.Session is deprecated. Please use tf.compat.v1.Session instead.\n",
      "\n",
      "WARNING:tensorflow:From /tf/github_proj/mvDUFS/mvDUFS/uai2023/Code/mmDUFS.py:381: The name tf.placeholder is deprecated. Please use tf.compat.v1.placeholder instead.\n",
      "\n",
      "WARNING:tensorflow:From /tf/github_proj/mvDUFS/mvDUFS/uai2023/Code/mmDUFS.py:390: The name tf.variable_scope is deprecated. Please use tf.compat.v1.variable_scope instead.\n",
      "\n",
      "WARNING:tensorflow:From /tf/github_proj/mvDUFS/mvDUFS/uai2023/Code/mmDUFS.py:390: The name tf.AUTO_REUSE is deprecated. Please use tf.compat.v1.AUTO_REUSE instead.\n",
      "\n",
      "WARNING:tensorflow:From /tf/github_proj/mvDUFS/mvDUFS/uai2023/Code/mmDUFS.py:391: The name tf.get_variable is deprecated. Please use tf.compat.v1.get_variable instead.\n",
      "\n",
      "WARNING:tensorflow:From /tf/github_proj/mvDUFS/mvDUFS/uai2023/Code/mmDUFS.py:498: The name tf.random_normal is deprecated. Please use tf.random.normal instead.\n",
      "\n",
      "WARNING:tensorflow:\n",
      "The TensorFlow contrib module will not be included in TensorFlow 2.0.\n",
      "For more information, please see:\n",
      "  * https://github.com/tensorflow/community/blob/master/rfcs/20180907-contrib-sunset.md\n",
      "  * https://github.com/tensorflow/addons\n",
      "  * https://github.com/tensorflow/io (for I/O related ops)\n",
      "If you depend on functionality not listed there, please file an issue.\n",
      "\n",
      "WARNING:tensorflow:From /tf/github_proj/mvDUFS/mvDUFS/uai2023/Code/mmDUFS.py:408: The name tf.erf is deprecated. Please use tf.math.erf instead.\n",
      "\n",
      "WARNING:tensorflow:From /tf/github_proj/mvDUFS/mvDUFS/uai2023/Code/mmDUFS.py:436: The name tf.train.GradientDescentOptimizer is deprecated. Please use tf.compat.v1.train.GradientDescentOptimizer instead.\n",
      "\n",
      "WARNING:tensorflow:From /usr/local/lib/python3.6/dist-packages/tensorflow_core/python/ops/math_grad.py:1375: where (from tensorflow.python.ops.array_ops) is deprecated and will be removed in a future version.\n",
      "Instructions for updating:\n",
      "Use tf.where in 2.0, which has the same broadcast rule as np.where\n",
      "WARNING:tensorflow:From /tf/github_proj/mvDUFS/mvDUFS/uai2023/Code/mmDUFS.py:442: The name tf.global_variables_initializer is deprecated. Please use tf.compat.v1.global_variables_initializer instead.\n",
      "\n",
      "WARNING:tensorflow:From /tf/github_proj/mvDUFS/mvDUFS/uai2023/Code/mmDUFS.py:444: The name tf.train.Saver is deprecated. Please use tf.compat.v1.train.Saver instead.\n",
      "\n",
      "WARNING:tensorflow:From /tf/github_proj/mvDUFS/mvDUFS/uai2023/Code/mmDUFS.py:461: The name tf.set_random_seed is deprecated. Please use tf.compat.v1.set_random_seed instead.\n",
      "\n",
      "num_samples : 500\n",
      "Epoch: 1000 loss= 0.060361095 score1= -0.051728457 score2= -0.050663147 reg1= 0.813704908 reg2= 0.813821971 f1 - Mod1 =  0.3519 f1 - Mod2 =  0.3906\n",
      "Epoch: 2000 loss= 0.056240521 score1= -0.050051618 score2= -0.051212557 reg1= 0.787490427 reg2= 0.787556529 f1 - Mod1 =  0.4348 f1 - Mod2 =  0.4291\n",
      "Epoch: 3000 loss= 0.048034884 score1= -0.052730009 score2= -0.051815778 reg1= 0.762837529 reg2= 0.762969196 f1 - Mod1 =  0.5397 f1 - Mod2 =  0.5087\n",
      "Epoch: 4000 loss= 0.045469224 score1= -0.050895777 score2= -0.051512655 reg1= 0.739315569 reg2= 0.739460945 f1 - Mod1 =  0.6040 f1 - Mod2 =  0.6025\n",
      "Epoch: 5000 loss= 0.036515594 score1= -0.054067094 score2= -0.051764164 reg1= 0.711745918 reg2= 0.711722612 f1 - Mod1 =  0.6456 f1 - Mod2 =  0.6569\n",
      "Epoch: 6000 loss= -50.789665222 score1= -25.043601990 score2= -25.773363113 reg1= 0.134615451 reg2= 0.138343155 f1 - Mod1 =  0.7321 f1 - Mod2 =  0.8058\n",
      "Epoch: 7000 loss= -51.133602142 score1= -25.265977859 score2= -25.894161224 reg1= 0.131070018 reg2= 0.134302095 f1 - Mod1 =  0.7321 f1 - Mod2 =  0.8078\n",
      "Epoch: 8000 loss= -51.147964478 score1= -25.273199081 score2= -25.901269913 reg1= 0.130890191 reg2= 0.134152055 f1 - Mod1 =  0.7321 f1 - Mod2 =  0.8078\n",
      "Epoch: 9000 loss= -51.147121429 score1= -25.272403717 score2= -25.901210785 reg1= 0.130833715 reg2= 0.134085402 f1 - Mod1 =  0.7321 f1 - Mod2 =  0.8078\n",
      "Epoch: 10000 loss= -51.148914337 score1= -25.273326874 score2= -25.902070999 reg1= 0.130811378 reg2= 0.134050280 f1 - Mod1 =  0.7321 f1 - Mod2 =  0.8078\n",
      "Optimization Finished!\n"
     ]
    }
   ],
   "source": [
    "dataset = DataSet(**{'_data1':X_z,\n",
    "                         '_data2':Y_z}\n",
    "                         )\n",
    "\n",
    "shared_mmdufs_params[\"input_dim1\"] = X_z.shape[1]\n",
    "shared_mmdufs_params[\"input_dim2\"] = Y_z.shape[1]\n",
    "    \n",
    "model = JointModel(**shared_mmdufs_params) \n",
    "    \n",
    "shared_result= model.train(dataset,\n",
    "                            learning_rate=shared_mmdfus_learning_rate,\n",
    "                        feature_label1 = gt_feat_joint_X.reshape(-1), \n",
    "                        feature_label2 = gt_feat_joint_Y.reshape(-1),\n",
    "                        display_step=display_step, \n",
    "                        num_epoch=epochs) #30000"
   ]
  },
  {
   "cell_type": "code",
   "execution_count": 12,
   "metadata": {},
   "outputs": [],
   "source": [
    "selected_pixels_1 = np.zeros(28*56)\n",
    "selected_pixels_1[np.argsort(model.get_raw_alpha1())[::-1][:np.sum(gt_feat_joint_X == 1)]] = 1\n",
    "selected_pixels_1 = selected_pixels_1.reshape(28,56)"
   ]
  },
  {
   "cell_type": "code",
   "execution_count": 13,
   "metadata": {},
   "outputs": [
    {
     "data": {
      "image/png": "[encoded data removed]",
      "text/plain": [
       "<Figure size 720x360 with 2 Axes>"
      ]
     },
     "metadata": {
      "needs_background": "light"
     },
     "output_type": "display_data"
    }
   ],
   "source": [
    "fig,axs = plt.subplots(1,2,figsize=(10,5))\n",
    "axs[0].imshow(selected_pixels_1,aspect=\"auto\")\n",
    "axs[1].imshow(gt_feat_joint_X.reshape(28,56),aspect=\"auto\")\n",
    "\n",
    "plt.show()"
   ]
  },
  {
   "cell_type": "code",
   "execution_count": 14,
   "metadata": {},
   "outputs": [
    {
     "data": {
      "text/plain": [
       "0.7151162790697675"
      ]
     },
     "execution_count": 14,
     "metadata": {},
     "output_type": "execute_result"
    }
   ],
   "source": [
    "f1_score(gt_feat_joint_X.reshape(-1).astype(int),selected_pixels_1.reshape(-1).astype(int))"
   ]
  },
  {
   "cell_type": "code",
   "execution_count": 15,
   "metadata": {},
   "outputs": [],
   "source": [
    "selected_pixels_2 = np.zeros(28*56)\n",
    "selected_pixels_2[np.argsort(model.get_raw_alpha2())[::-1][:np.sum(gt_feat_joint_Y == 1)]] = 1\n",
    "selected_pixels_2 = selected_pixels_2.reshape(28,56)"
   ]
  },
  {
   "cell_type": "code",
   "execution_count": 16,
   "metadata": {},
   "outputs": [
    {
     "data": {
      "text/plain": [
       "0.8109452736318408"
      ]
     },
     "execution_count": 16,
     "metadata": {},
     "output_type": "execute_result"
    }
   ],
   "source": [
    "f1_score(gt_feat_joint_Y.reshape(-1).astype(int),selected_pixels_2.reshape(-1).astype(int))"
   ]
  },
  {
   "cell_type": "code",
   "execution_count": 17,
   "metadata": {},
   "outputs": [],
   "source": [
    "# run mmDUFS with the differential op"
   ]
  },
  {
   "cell_type": "code",
   "execution_count": 18,
   "metadata": {},
   "outputs": [],
   "source": [
    "diff_mmdufs_params = {\n",
    "    \"lam1\":0.5, # lambda x\n",
    "    \"batch_size\":X_z.shape[0], # full batch\n",
    "    \"const\":1e-3,\n",
    "    \"const2\":1e-4\n",
    "}\n",
    "diff_mmdfus_learning_rate = 1\n",
    "display_step = 1000\n",
    "epochs = 10000"
   ]
  },
  {
   "cell_type": "code",
   "execution_count": 19,
   "metadata": {},
   "outputs": [],
   "source": [
    "diff_mmdufs_params[\"input_dim1\"] = X_z.shape[1]\n",
    "diff_mmdufs_params[\"input_dim2\"] = Y_z.shape[1]"
   ]
  },
  {
   "cell_type": "code",
   "execution_count": 20,
   "metadata": {},
   "outputs": [
    {
     "name": "stdout",
     "output_type": "stream",
     "text": [
      "num_samples : 500\n",
      "Epoch: 1000 loss= -0.394507706 score1= -0.715064645 reg1= 0.641113877 f1= 0.8059\n",
      "Epoch: 2000 loss= -8.793080330 score1= -8.899697304 reg1= 0.213233441 f1= 0.8073\n",
      "Epoch: 3000 loss= -8.819142342 score1= -8.924221039 reg1= 0.210157320 f1= 0.8073\n",
      "Epoch: 4000 loss= -8.829476357 score1= -8.934052467 reg1= 0.209151685 f1= 0.8073\n",
      "Epoch: 5000 loss= -8.829362869 score1= -8.933717728 reg1= 0.208709255 f1= 0.8073\n",
      "Epoch: 6000 loss= -8.831049919 score1= -8.935247421 reg1= 0.208395645 f1= 0.8073\n",
      "Epoch: 7000 loss= -8.832656860 score1= -8.936763763 reg1= 0.208213106 f1= 0.8073\n",
      "Epoch: 8000 loss= -8.833278656 score1= -8.937311172 reg1= 0.208064437 f1= 0.8073\n",
      "Epoch: 9000 loss= -8.832686424 score1= -8.936665535 reg1= 0.207958311 f1= 0.8073\n",
      "Epoch: 10000 loss= -8.833626747 score1= -8.937567711 reg1= 0.207881838 f1= 0.8073\n",
      "Optimization Finished!\n"
     ]
    }
   ],
   "source": [
    "dataset = DataSet(**{'_data1':X_z,\n",
    "                         '_data2':Y_z,\n",
    "                    })\n",
    "    \n",
    "diff_model1 = DiffModel(**diff_mmdufs_params) \n",
    "    \n",
    "diff_result1= diff_model1.train(dataset,\n",
    "                              learning_rate=diff_mmdfus_learning_rate,\n",
    "                        feature_label = gt_feat_diff_X.reshape(-1), \n",
    "                        display_step=display_step, \n",
    "                        num_epoch=epochs) #30000\n",
    "  "
   ]
  },
  {
   "cell_type": "code",
   "execution_count": 21,
   "metadata": {},
   "outputs": [],
   "source": [
    "selected_pixels_diff1 = diff_model1.get_prob_alpha1()"
   ]
  },
  {
   "cell_type": "code",
   "execution_count": 22,
   "metadata": {},
   "outputs": [
    {
     "data": {
      "text/plain": [
       "0.8073394495412844"
      ]
     },
     "execution_count": 22,
     "metadata": {},
     "output_type": "execute_result"
    }
   ],
   "source": [
    "f1_score(gt_feat_diff_X.reshape(-1).astype(int),1*(diff_model1.get_prob_alpha1()==1).reshape(-1).astype(int))"
   ]
  },
  {
   "cell_type": "code",
   "execution_count": 23,
   "metadata": {},
   "outputs": [],
   "source": [
    "diff_mmdufs_params = {\n",
    "    \"lam1\":0.5, # lambda x\n",
    "    \"batch_size\":Y_z.shape[0], # full batch\n",
    "    \"const\":1e-3,\n",
    "    \"const2\":1e-4\n",
    "}\n",
    "diff_mmdfus_learning_rate = 1\n",
    "display_step = 1000\n",
    "epochs = 10000"
   ]
  },
  {
   "cell_type": "code",
   "execution_count": 24,
   "metadata": {},
   "outputs": [],
   "source": [
    "diff_mmdufs_params[\"input_dim1\"] = Y_z.shape[1]\n",
    "diff_mmdufs_params[\"input_dim2\"] = X_z.shape[1]"
   ]
  },
  {
   "cell_type": "code",
   "execution_count": 25,
   "metadata": {},
   "outputs": [
    {
     "name": "stdout",
     "output_type": "stream",
     "text": [
      "num_samples : 500\n",
      "Epoch: 1000 loss= 0.321659446 score1= -0.056140143 reg1= 0.755599201 f1= 0.8520\n",
      "Epoch: 2000 loss= -6.235822201 score1= -6.323351860 reg1= 0.175059542 f1= 0.8826\n",
      "Epoch: 3000 loss= -6.419439316 score1= -6.497337341 reg1= 0.155796349 f1= 0.8826\n",
      "Epoch: 4000 loss= -6.433963776 score1= -6.510790825 reg1= 0.153653771 f1= 0.8826\n",
      "Epoch: 5000 loss= -6.437930107 score1= -6.514316559 reg1= 0.152772769 f1= 0.8826\n",
      "Epoch: 6000 loss= -6.439202785 score1= -6.515350819 reg1= 0.152296513 f1= 0.8826\n",
      "Epoch: 7000 loss= -6.440771580 score1= -6.516755104 reg1= 0.151967362 f1= 0.8826\n",
      "Epoch: 8000 loss= -6.441442490 score1= -6.517309189 reg1= 0.151733130 f1= 0.8826\n",
      "Epoch: 9000 loss= -6.444547176 score1= -6.520325184 reg1= 0.151556060 f1= 0.8826\n",
      "Epoch: 10000 loss= -6.444150925 score1= -6.519861698 reg1= 0.151421770 f1= 0.8826\n",
      "Optimization Finished!\n"
     ]
    }
   ],
   "source": [
    "dataset = DataSet(**{'_data1':Y_z,\n",
    "                         '_data2':X_z,\n",
    "                    })\n",
    "    \n",
    "diff_model2 = DiffModel(**diff_mmdufs_params) \n",
    "    \n",
    "diff_result2= diff_model2.train(dataset,\n",
    "                              learning_rate=diff_mmdfus_learning_rate,\n",
    "                        feature_label = gt_feat_diff_Y.reshape(-1), \n",
    "                        display_step=display_step, \n",
    "                        num_epoch=epochs) #30000\n",
    "  "
   ]
  },
  {
   "cell_type": "code",
   "execution_count": 26,
   "metadata": {},
   "outputs": [],
   "source": [
    "selected_pixels_diff2 = diff_model2.get_prob_alpha1()"
   ]
  },
  {
   "cell_type": "code",
   "execution_count": 27,
   "metadata": {},
   "outputs": [
    {
     "data": {
      "text/plain": [
       "0.8826291079812206"
      ]
     },
     "execution_count": 27,
     "metadata": {},
     "output_type": "execute_result"
    }
   ],
   "source": [
    "f1_score(gt_feat_diff_Y.reshape(-1).astype(int),1*(diff_model2.get_prob_alpha1()==1).reshape(-1).astype(int))"
   ]
  },
  {
   "cell_type": "code",
   "execution_count": null,
   "metadata": {},
   "outputs": [],
   "source": []
  }
 ],
 "metadata": {
  "kernelspec": {
   "display_name": "Python 3",
   "language": "python",
   "name": "python3"
  },
  "language_info": {
   "codemirror_mode": {
    "name": "ipython",
    "version": 3
   },
   "file_extension": ".py",
   "mimetype": "text/x-python",
   "name": "python",
   "nbconvert_exporter": "python",
   "pygments_lexer": "ipython3",
   "version": "3.6.9"
  }
 },
 "nbformat": 4,
 "nbformat_minor": 4
}
