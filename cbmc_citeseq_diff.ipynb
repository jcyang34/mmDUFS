{
 "cells": [
  {
   "cell_type": "code",
   "execution_count": 1,
   "metadata": {},
   "outputs": [
    {
     "name": "stderr",
     "output_type": "stream",
     "text": [
      "Using TensorFlow backend.\n"
     ]
    }
   ],
   "source": [
    "# load packages:\n",
    "# package requirement: tensorflow-gpu 1.15.2, keras 2.3.1 munkres\n",
    "import numpy as np\n",
    "import matplotlib as mpl\n",
    "import matplotlib.pyplot as plt\n",
    "import matplotlib.cm as cm\n",
    "import matplotlib.patches as pathces\n",
    "import sys\n",
    "\n",
    "from mmDUFS import JointModel\n",
    "from mmDUFS import DiffModel\n",
    "from mmDUFS import DataSet\n",
    "\n",
    "from baselines import fs_eval_diff\n",
    "\n",
    "from sklearn.metrics import f1_score\n",
    "from scipy import stats"
   ]
  },
  {
   "cell_type": "code",
   "execution_count": 2,
   "metadata": {},
   "outputs": [
    {
     "name": "stdout",
     "output_type": "stream",
     "text": [
      "Thu Jun  1 19:43:52 2023       \n",
      "+-----------------------------------------------------------------------------+\n",
      "| NVIDIA-SMI 520.61.05    Driver Version: 520.61.05    CUDA Version: 11.8     |\n",
      "|-------------------------------+----------------------+----------------------+\n",
      "| GPU  Name        Persistence-M| Bus-Id        Disp.A | Volatile Uncorr. ECC |\n",
      "| Fan  Temp  Perf  Pwr:Usage/Cap|         Memory-Usage | GPU-Util  Compute M. |\n",
      "|                               |                      |               MIG M. |\n",
      "|===============================+======================+======================|\n",
      "|   0  NVIDIA GeForce ...  Off  | 00000000:1A:00.0 Off |                  N/A |\n",
      "| 36%   53C    P8    20W / 250W |    817MiB / 11264MiB |      0%      Default |\n",
      "|                               |                      |                  N/A |\n",
      "+-------------------------------+----------------------+----------------------+\n",
      "|   1  NVIDIA GeForce ...  Off  | 00000000:1B:00.0 Off |                  N/A |\n",
      "| 29%   29C    P8    12W / 250W |   1844MiB / 11264MiB |      0%      Default |\n",
      "|                               |                      |                  N/A |\n",
      "+-------------------------------+----------------------+----------------------+\n",
      "|   2  NVIDIA GeForce ...  Off  | 00000000:60:00.0 Off |                  N/A |\n",
      "| 29%   27C    P8    20W / 250W |  10736MiB / 11264MiB |      0%      Default |\n",
      "|                               |                      |                  N/A |\n",
      "+-------------------------------+----------------------+----------------------+\n",
      "|   3  NVIDIA GeForce ...  Off  | 00000000:61:00.0 Off |                  N/A |\n",
      "|  0%   32C    P8    20W / 250W |      8MiB / 11264MiB |      0%      Default |\n",
      "|                               |                      |                  N/A |\n",
      "+-------------------------------+----------------------+----------------------+\n",
      "|   4  NVIDIA GeForce ...  Off  | 00000000:B1:00.0 Off |                  N/A |\n",
      "| 30%   26C    P8     7W / 250W |    514MiB / 11264MiB |      0%      Default |\n",
      "|                               |                      |                  N/A |\n",
      "+-------------------------------+----------------------+----------------------+\n",
      "|   5  NVIDIA GeForce ...  Off  | 00000000:B2:00.0 Off |                  N/A |\n",
      "| 29%   28C    P8    14W / 250W |   1048MiB / 11264MiB |      0%      Default |\n",
      "|                               |                      |                  N/A |\n",
      "+-------------------------------+----------------------+----------------------+\n",
      "|   6  NVIDIA GeForce ...  Off  | 00000000:DA:00.0 Off |                  N/A |\n",
      "| 29%   22C    P8    19W / 250W |    388MiB / 11264MiB |      0%      Default |\n",
      "|                               |                      |                  N/A |\n",
      "+-------------------------------+----------------------+----------------------+\n",
      "|   7  NVIDIA GeForce ...  Off  | 00000000:DB:00.0 Off |                  N/A |\n",
      "| 30%   24C    P8    16W / 250W |  10482MiB / 11264MiB |      0%      Default |\n",
      "|                               |                      |                  N/A |\n",
      "+-------------------------------+----------------------+----------------------+\n",
      "                                                                               \n",
      "+-----------------------------------------------------------------------------+\n",
      "| Processes:                                                                  |\n",
      "|  GPU   GI   CI        PID   Type   Process name                  GPU Memory |\n",
      "|        ID   ID                                                   Usage      |\n",
      "|=============================================================================|\n",
      "+-----------------------------------------------------------------------------+\n"
     ]
    }
   ],
   "source": [
    "!nvidia-smi"
   ]
  },
  {
   "cell_type": "code",
   "execution_count": 3,
   "metadata": {},
   "outputs": [],
   "source": [
    "import os\n",
    "os.environ['CUDA_VISIBLE_DEVICES'] = '0'"
   ]
  },
  {
   "cell_type": "code",
   "execution_count": 4,
   "metadata": {},
   "outputs": [],
   "source": [
    "cbmc_diff_data = np.load(\"datasets/cbmc_citeseq_diff.npz\",allow_pickle=True)\n",
    "X_z=cbmc_diff_data['X']\n",
    "Y_z=cbmc_diff_data['Y']\n",
    "y=cbmc_diff_data['y'] #'CD34+': 0, 'Eryth': 1, 'Mouse': 2\n",
    "feature_label=cbmc_diff_data['feature_label']"
   ]
  },
  {
   "cell_type": "code",
   "execution_count": 104,
   "metadata": {},
   "outputs": [],
   "source": [
    "# run baselines to get the differential features\n",
    "_,diff_list = fs_eval_diff(X_z,Y_z,\n",
    "                         label_true_X = feature_label,\n",
    "                         label_true_Y = np.ones(Y_z.shape[1]), # random token\n",
    "                         baselines = [\"concat\",\"sum\",\"prod\"],\n",
    "                         n_total_x = 150,\n",
    "                         n_total_y = 10, \n",
    "                         nx=60,\n",
    "                         ny=50, knn=2,fac=5, laplacian=\"normalized\")"
   ]
  },
  {
   "cell_type": "code",
   "execution_count": 6,
   "metadata": {},
   "outputs": [],
   "source": [
    "# run mmDUFS"
   ]
  },
  {
   "cell_type": "code",
   "execution_count": 7,
   "metadata": {},
   "outputs": [],
   "source": [
    "diff_mmdufs_params = {\n",
    "    \"lam1\":3, # lambda x\n",
    "    \"batch_size\":X_z.shape[0], # full batch\n",
    "    \"const\":2,\n",
    "    \"const2\":1,\n",
    "    \"laplacian\":\"unnormalized\"\n",
    "}\n",
    "diff_mmdfus_learning_rate = 2\n",
    "display_step = 1000\n",
    "epochs = 5000"
   ]
  },
  {
   "cell_type": "code",
   "execution_count": 8,
   "metadata": {},
   "outputs": [],
   "source": [
    "diff_mmdufs_params[\"input_dim1\"] = X_z.shape[1]\n",
    "diff_mmdufs_params[\"input_dim2\"] = Y_z.shape[1]"
   ]
  },
  {
   "cell_type": "code",
   "execution_count": 17,
   "metadata": {
    "scrolled": true
   },
   "outputs": [
    {
     "name": "stdout",
     "output_type": "stream",
     "text": [
      "num_samples : 832\n",
      "Epoch: 1000 loss= -0.930166185 score1= -1.466650128 reg1= 0.178827986 f1= 0.9362\n",
      "Epoch: 2000 loss= -0.944792390 score1= -1.475106359 reg1= 0.176771313 f1= 0.9362\n",
      "Epoch: 3000 loss= -0.946312129 score1= -1.475676417 reg1= 0.176454768 f1= 0.9362\n",
      "Epoch: 4000 loss= -0.946783721 score1= -1.475733757 reg1= 0.176316679 f1= 0.9362\n",
      "Epoch: 5000 loss= -0.947310388 score1= -1.476033926 reg1= 0.176241174 f1= 0.9362\n",
      "Optimization Finished!\n"
     ]
    }
   ],
   "source": [
    "dataset = DataSet(**{'_data1':X_z,\n",
    "                         '_data2':Y_z,\n",
    "                    })\n",
    "    \n",
    "diff_model1 = DiffModel(**diff_mmdufs_params) \n",
    "    \n",
    "diff_result1= diff_model1.train(dataset,\n",
    "                              learning_rate=diff_mmdfus_learning_rate,\n",
    "                        feature_label = feature_label, \n",
    "                        display_step=display_step, \n",
    "                        num_epoch=epochs) "
   ]
  },
  {
   "cell_type": "code",
   "execution_count": 105,
   "metadata": {},
   "outputs": [],
   "source": [
    "mmDUFS_selected_feats = diff_model1.get_prob_alpha1() == 1"
   ]
  },
  {
   "cell_type": "code",
   "execution_count": 300,
   "metadata": {},
   "outputs": [
    {
     "data": {
      "text/plain": [
       "88"
      ]
     },
     "execution_count": 300,
     "metadata": {},
     "output_type": "execute_result"
    }
   ],
   "source": [
    "sum(mmDUFS_selected_feats)"
   ]
  },
  {
   "cell_type": "code",
   "execution_count": 301,
   "metadata": {},
   "outputs": [],
   "source": [
    "from sklearn.svm import LinearSVC\n",
    "from sklearn.model_selection import train_test_split\n",
    "from sklearn.preprocessing import StandardScaler\n",
    "from sklearn.metrics import balanced_accuracy_score"
   ]
  },
  {
   "cell_type": "code",
   "execution_count": 303,
   "metadata": {},
   "outputs": [],
   "source": [
    "c2keep = np.array([(cp == 1)|(cp == 2) for cp in y])\n",
    "X_subset = X_z[c2keep,:]\n",
    "y_subset = y[c2keep]\n",
    "\n",
    "ylabel_new_mapper = {2:0,1:1}\n",
    "ylabels = np.array([ylabel_new_mapper[i] for i in y_subset])\n"
   ]
  },
  {
   "cell_type": "code",
   "execution_count": 336,
   "metadata": {},
   "outputs": [],
   "source": [
    "acc_dict = {\"concat\":[],\n",
    "            \"sum\":[],\n",
    "            \"prod\":[],\n",
    "           \"mmDUFS\":[]}"
   ]
  },
  {
   "cell_type": "code",
   "execution_count": 337,
   "metadata": {},
   "outputs": [],
   "source": [
    "for seed in range(10):\n",
    "    X_train, X_test, y_train, y_test = train_test_split(X_subset, ylabels, train_size=0.05,random_state=seed)\n",
    "    scaler = StandardScaler()\n",
    "    scaler.fit(X_train)\n",
    "    X_train = scaler.transform(X_train)\n",
    "    X_test = scaler.transform(X_test)\n",
    "    \n",
    "    for base in [\"concat\",\"sum\",\"prod\"]:\n",
    "        feats2keep = diff_list[base]['X'].astype('bool')\n",
    "    \n",
    "        X_train_sub,X_test_sub = X_train[:,feats2keep], X_test[:,feats2keep]\n",
    "        clf = LinearSVC(max_iter=1e6)\n",
    "        clf.fit(X_train_sub,y_train)\n",
    "        y_pred = clf.predict(X_test_sub)\n",
    "        acc = balanced_accuracy_score(y_test,y_pred)\n",
    "        acc_dict[base].append(acc)\n",
    "    # mmDUFS\n",
    "    clf = LinearSVC(max_iter=1e6)\n",
    "    clf.fit(X_train[:,mmDUFS_selected_feats],y_train)\n",
    "    y_pred = clf.predict(X_test[:,mmDUFS_selected_feats])\n",
    "    acc = balanced_accuracy_score(y_test,y_pred)\n",
    "    acc_dict[\"mmDUFS\"].append(acc)\n",
    "    "
   ]
  },
  {
   "cell_type": "code",
   "execution_count": 338,
   "metadata": {},
   "outputs": [
    {
     "name": "stdout",
     "output_type": "stream",
     "text": [
      "concat: mean acc: 0.9697\n",
      "sum: mean acc: 0.9380\n",
      "prod: mean acc: 0.9380\n",
      "mmDUFS: mean acc: 0.9752\n"
     ]
    }
   ],
   "source": [
    "for method in [\"concat\",\"sum\",\"prod\",\"mmDUFS\"]:\n",
    "    print(\"{}: mean acc: {:.4f}\".format(method,np.mean(acc_dict[method])))"
   ]
  }
 ],
 "metadata": {
  "kernelspec": {
   "display_name": "Python 3",
   "language": "python",
   "name": "python3"
  },
  "language_info": {
   "codemirror_mode": {
    "name": "ipython",
    "version": 3
   },
   "file_extension": ".py",
   "mimetype": "text/x-python",
   "name": "python",
   "nbconvert_exporter": "python",
   "pygments_lexer": "ipython3",
   "version": "3.6.9"
  }
 },
 "nbformat": 4,
 "nbformat_minor": 4
}
