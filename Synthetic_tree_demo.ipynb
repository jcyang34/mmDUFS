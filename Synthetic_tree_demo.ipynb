{
 "cells": [
  {
   "cell_type": "code",
   "execution_count": 73,
   "metadata": {},
   "outputs": [],
   "source": [
    "# load packages:\n",
    "# package requirement: tensorflow-gpu 1.15.2, keras 2.3.1 munkres\n",
    "import numpy as np\n",
    "import pandas as pd\n",
    "import matplotlib as mpl\n",
    "import matplotlib.pyplot as plt\n",
    "import matplotlib.cm as cm\n",
    "import matplotlib.patches as pathces\n",
    "import sys\n",
    "\n",
    "from mmDUFS import JointModel\n",
    "from mmDUFS import DiffModel\n",
    "from mmDUFS import DataSet\n",
    "\n",
    "from baselines import *\n",
    "\n",
    "from sklearn.metrics import f1_score\n",
    "from scipy import stats"
   ]
  },
  {
   "cell_type": "code",
   "execution_count": 44,
   "metadata": {},
   "outputs": [
    {
     "name": "stdout",
     "output_type": "stream",
     "text": [
      "Thu Jun  1 01:14:09 2023       \n",
      "+-----------------------------------------------------------------------------+\n",
      "| NVIDIA-SMI 520.61.05    Driver Version: 520.61.05    CUDA Version: 11.8     |\n",
      "|-------------------------------+----------------------+----------------------+\n",
      "| GPU  Name        Persistence-M| Bus-Id        Disp.A | Volatile Uncorr. ECC |\n",
      "| Fan  Temp  Perf  Pwr:Usage/Cap|         Memory-Usage | GPU-Util  Compute M. |\n",
      "|                               |                      |               MIG M. |\n",
      "|===============================+======================+======================|\n",
      "|   0  NVIDIA GeForce ...  Off  | 00000000:1A:00.0 Off |                  N/A |\n",
      "| 29%   29C    P8    16W / 250W |  10775MiB / 11264MiB |      0%      Default |\n",
      "|                               |                      |                  N/A |\n",
      "+-------------------------------+----------------------+----------------------+\n",
      "|   1  NVIDIA GeForce ...  Off  | 00000000:1B:00.0 Off |                  N/A |\n",
      "| 29%   30C    P8    11W / 250W |  10826MiB / 11264MiB |      0%      Default |\n",
      "|                               |                      |                  N/A |\n",
      "+-------------------------------+----------------------+----------------------+\n",
      "|   2  NVIDIA GeForce ...  Off  | 00000000:60:00.0 Off |                  N/A |\n",
      "| 29%   27C    P8    20W / 250W |      8MiB / 11264MiB |      0%      Default |\n",
      "|                               |                      |                  N/A |\n",
      "+-------------------------------+----------------------+----------------------+\n",
      "|   3  NVIDIA GeForce ...  Off  | 00000000:61:00.0 Off |                  N/A |\n",
      "|  0%   32C    P8    14W / 250W |      8MiB / 11264MiB |      0%      Default |\n",
      "|                               |                      |                  N/A |\n",
      "+-------------------------------+----------------------+----------------------+\n",
      "|   4  NVIDIA GeForce ...  Off  | 00000000:B1:00.0 Off |                  N/A |\n",
      "| 29%   28C    P8     7W / 250W |    514MiB / 11264MiB |      0%      Default |\n",
      "|                               |                      |                  N/A |\n",
      "+-------------------------------+----------------------+----------------------+\n",
      "|   5  NVIDIA GeForce ...  Off  | 00000000:B2:00.0 Off |                  N/A |\n",
      "| 29%   30C    P8    14W / 250W |   1048MiB / 11264MiB |      0%      Default |\n",
      "|                               |                      |                  N/A |\n",
      "+-------------------------------+----------------------+----------------------+\n",
      "|   6  NVIDIA GeForce ...  Off  | 00000000:DA:00.0 Off |                  N/A |\n",
      "| 29%   23C    P8    19W / 250W |    388MiB / 11264MiB |      0%      Default |\n",
      "|                               |                      |                  N/A |\n",
      "+-------------------------------+----------------------+----------------------+\n",
      "|   7  NVIDIA GeForce ...  Off  | 00000000:DB:00.0 Off |                  N/A |\n",
      "| 30%   25C    P8    16W / 250W |  10482MiB / 11264MiB |      0%      Default |\n",
      "|                               |                      |                  N/A |\n",
      "+-------------------------------+----------------------+----------------------+\n",
      "                                                                               \n",
      "+-----------------------------------------------------------------------------+\n",
      "| Processes:                                                                  |\n",
      "|  GPU   GI   CI        PID   Type   Process name                  GPU Memory |\n",
      "|        ID   ID                                                   Usage      |\n",
      "|=============================================================================|\n",
      "+-----------------------------------------------------------------------------+\n"
     ]
    }
   ],
   "source": [
    "!nvidia-smi"
   ]
  },
  {
   "cell_type": "code",
   "execution_count": 45,
   "metadata": {},
   "outputs": [],
   "source": [
    "import os\n",
    "os.environ['CUDA_VISIBLE_DEVICES'] = '1'"
   ]
  },
  {
   "cell_type": "code",
   "execution_count": 106,
   "metadata": {},
   "outputs": [],
   "source": [
    "# load the data\n",
    "tree_data = np.load(\"./datasets/synthetic_tree.npz\",allow_pickle=True)\n",
    "X_z=tree_data['X']\n",
    "Y_z=tree_data['Y']\n",
    "y=tree_data['y']\n",
    "gt_feat_joint_X=tree_data['gt_feat_joint_X']\n",
    "gt_feat_joint_Y=tree_data['gt_feat_joint_Y']\n",
    "gt_feat_diff_X=tree_data['gt_feat_diff_X']\n",
    "gt_feat_diff_Y=tree_data['gt_feat_diff_Y']"
   ]
  },
  {
   "cell_type": "code",
   "execution_count": 107,
   "metadata": {},
   "outputs": [],
   "source": [
    "# run baselines\n",
    "baseline_f1 = fs_eval(X = X_z,\n",
    "        Y =  Y_z,\n",
    "        label_true_X = gt_feat_joint_X,\n",
    "        label_true_Y = gt_feat_joint_Y,\n",
    "        baselines = [\"concat\",\"sum\",\"prod\"],\n",
    "        nx=np.sum(gt_feat_joint_X == 1),\n",
    "        ny=np.sum(gt_feat_joint_Y == 1), \n",
    "        knn=2,fac=5, laplacian=\"normalized\")\n",
    "   "
   ]
  },
  {
   "cell_type": "code",
   "execution_count": 109,
   "metadata": {},
   "outputs": [
    {
     "data": {
      "text/plain": [
       "{'concat': {'X': 0.6, 'Y': 0.78},\n",
       " 'sum': {'X': 0.78, 'Y': 0.8000000000000002},\n",
       " 'prod': {'X': 0.8399999999999999, 'Y': 0.82}}"
      ]
     },
     "execution_count": 109,
     "metadata": {},
     "output_type": "execute_result"
    }
   ],
   "source": [
    "baseline_f1"
   ]
  },
  {
   "cell_type": "code",
   "execution_count": 49,
   "metadata": {},
   "outputs": [],
   "source": [
    "# run mmdufs with shared op"
   ]
  },
  {
   "cell_type": "code",
   "execution_count": 110,
   "metadata": {},
   "outputs": [],
   "source": [
    "shared_mmdufs_params = {\n",
    "    \"lam1\":1e-1, # lambda x\n",
    "    \"lam2\":1e-1, # lambda y\n",
    "    \"batch_size\":X_z.shape[0], # full batch\n",
    "    \"const2\":1e3\n",
    "}\n",
    "shared_mmdfus_learning_rate = 2\n",
    "display_step = 1000\n",
    "epochs = 25000"
   ]
  },
  {
   "cell_type": "code",
   "execution_count": 111,
   "metadata": {
    "scrolled": true
   },
   "outputs": [
    {
     "name": "stdout",
     "output_type": "stream",
     "text": [
      "num_samples : 1000\n",
      "Epoch: 1000 loss= -2.807910919 score1= -1.421749949 score2= -1.544219255 reg1= 0.829390168 reg2= 0.751193166 f1 - Mod1 =  0.3983 f1 - Mod2 =  0.4848\n",
      "Epoch: 2000 loss= -2.939616203 score1= -1.474189878 score2= -1.579069018 reg1= 0.645253658 reg2= 0.491172075 f1 - Mod1 =  0.4585 f1 - Mod2 =  0.5311\n",
      "Epoch: 3000 loss= -3.097668171 score1= -1.504732728 score2= -1.685703158 reg1= 0.515264153 reg2= 0.412414789 f1 - Mod1 =  0.4973 f1 - Mod2 =  0.5595\n",
      "Epoch: 4000 loss= -3.365438461 score1= -1.594656110 score2= -1.848757505 reg1= 0.415918767 reg2= 0.363833547 f1 - Mod1 =  0.5380 f1 - Mod2 =  0.5987\n",
      "Epoch: 5000 loss= -4.438420773 score1= -2.008433104 score2= -2.492308378 reg1= 0.322523326 reg2= 0.300684094 f1 - Mod1 =  0.6345 f1 - Mod2 =  0.6763\n",
      "Epoch: 6000 loss= -5.524314404 score1= -2.446123362 score2= -3.134174585 reg1= 0.285236210 reg2= 0.274599820 f1 - Mod1 =  0.6815 f1 - Mod2 =  0.7121\n",
      "Epoch: 7000 loss= -7.309978962 score1= -3.101500511 score2= -4.257998943 reg1= 0.237864643 reg2= 0.257340670 f1 - Mod1 =  0.7603 f1 - Mod2 =  0.7402\n",
      "Epoch: 8000 loss= -9.671636581 score1= -4.127381325 score2= -5.590059280 reg1= 0.227230892 reg2= 0.230806530 f1 - Mod1 =  0.7797 f1 - Mod2 =  0.7899\n",
      "Epoch: 9000 loss= -10.201577187 score1= -4.365054131 score2= -5.881581783 reg1= 0.227007195 reg2= 0.223578140 f1 - Mod1 =  0.7797 f1 - Mod2 =  0.8034\n",
      "Epoch: 10000 loss= -10.602526665 score1= -4.547587395 score2= -6.099647522 reg1= 0.226907820 reg2= 0.220175713 f1 - Mod1 =  0.7797 f1 - Mod2 =  0.8103\n",
      "Epoch: 11000 loss= -10.615983009 score1= -4.552769184 score2= -6.107911587 reg1= 0.226844355 reg2= 0.220139906 f1 - Mod1 =  0.7797 f1 - Mod2 =  0.8103\n",
      "Epoch: 12000 loss= -12.359934807 score1= -5.202891350 score2= -7.199735641 reg1= 0.206812739 reg2= 0.220109686 f1 - Mod1 =  0.8036 f1 - Mod2 =  0.8103\n",
      "Epoch: 13000 loss= -13.303186417 score1= -5.594930649 score2= -7.750308990 reg1= 0.203438148 reg2= 0.217096671 f1 - Mod1 =  0.8108 f1 - Mod2 =  0.8174\n",
      "Epoch: 14000 loss= -13.914518356 score1= -5.830326557 score2= -8.125877380 reg1= 0.200088292 reg2= 0.216757968 f1 - Mod1 =  0.8182 f1 - Mod2 =  0.8174\n",
      "Epoch: 15000 loss= -13.919598579 score1= -5.832201004 score2= -8.129080772 reg1= 0.200077757 reg2= 0.216747984 f1 - Mod1 =  0.8182 f1 - Mod2 =  0.8174\n",
      "Epoch: 16000 loss= -13.916344643 score1= -5.830829144 score2= -8.127196312 reg1= 0.200068042 reg2= 0.216736153 f1 - Mod1 =  0.8182 f1 - Mod2 =  0.8174\n",
      "Epoch: 17000 loss= -16.049285889 score1= -6.674694061 score2= -9.414937973 reg1= 0.190060169 reg2= 0.213392496 f1 - Mod1 =  0.8411 f1 - Mod2 =  0.8246\n",
      "Epoch: 18000 loss= -17.150455475 score1= -7.112241745 score2= -10.077890396 reg1= 0.183389708 reg2= 0.213384405 f1 - Mod1 =  0.8571 f1 - Mod2 =  0.8246\n",
      "Epoch: 19000 loss= -17.150808334 score1= -7.112449169 score2= -10.078033447 reg1= 0.183378413 reg2= 0.213378072 f1 - Mod1 =  0.8571 f1 - Mod2 =  0.8246\n",
      "Epoch: 20000 loss= -17.948413849 score1= -7.439538479 score2= -10.548215866 reg1= 0.180038273 reg2= 0.213373423 f1 - Mod1 =  0.8654 f1 - Mod2 =  0.8246\n",
      "Epoch: 21000 loss= -17.948333740 score1= -7.439530849 score2= -10.548144341 reg1= 0.180033952 reg2= 0.213371128 f1 - Mod1 =  0.8654 f1 - Mod2 =  0.8246\n",
      "Epoch: 22000 loss= -17.948387146 score1= -7.439541817 score2= -10.548185349 reg1= 0.180031270 reg2= 0.213368684 f1 - Mod1 =  0.8654 f1 - Mod2 =  0.8246\n",
      "Epoch: 23000 loss= -17.948348999 score1= -7.439536572 score2= -10.548151016 reg1= 0.180028111 reg2= 0.213365287 f1 - Mod1 =  0.8654 f1 - Mod2 =  0.8246\n",
      "Epoch: 24000 loss= -18.566596985 score1= -7.705691814 score2= -10.899911880 reg1= 0.180025339 reg2= 0.210038289 f1 - Mod1 =  0.8654 f1 - Mod2 =  0.8319\n",
      "Epoch: 25000 loss= -18.567741394 score1= -7.705941677 score2= -10.900804520 reg1= 0.180023208 reg2= 0.210027754 f1 - Mod1 =  0.8654 f1 - Mod2 =  0.8319\n",
      "Optimization Finished!\n"
     ]
    }
   ],
   "source": [
    "dataset = DataSet(**{'_data1':X_z,\n",
    "                         '_data2':Y_z}\n",
    "                         )\n",
    "\n",
    "shared_mmdufs_params[\"input_dim1\"] = X_z.shape[1]\n",
    "shared_mmdufs_params[\"input_dim2\"] = Y_z.shape[1]\n",
    "    \n",
    "model = JointModel(**shared_mmdufs_params) \n",
    "    \n",
    "shared_result= model.train(dataset,\n",
    "                            learning_rate=shared_mmdfus_learning_rate,\n",
    "                        feature_label1 = gt_feat_joint_X, \n",
    "                        feature_label2 = gt_feat_joint_Y,\n",
    "                        display_step=display_step, \n",
    "                        num_epoch=epochs) "
   ]
  },
  {
   "cell_type": "code",
   "execution_count": 112,
   "metadata": {},
   "outputs": [],
   "source": [
    "selected_feat_common_1 = np.zeros(X_z.shape[1])\n",
    "selected_feat_common_1[np.argsort(model.get_raw_alpha1())[::-1][:np.sum(gt_feat_joint_X == 1)]] = 1\n",
    "\n",
    "\n",
    "selected_feat_common_2 = np.zeros(Y_z.shape[1])\n",
    "selected_feat_common_2[np.argsort(model.get_raw_alpha2())[::-1][:np.sum(gt_feat_joint_Y == 1)]] = 1\n"
   ]
  },
  {
   "cell_type": "code",
   "execution_count": 113,
   "metadata": {},
   "outputs": [
    {
     "data": {
      "text/plain": [
       "0.9"
      ]
     },
     "execution_count": 113,
     "metadata": {},
     "output_type": "execute_result"
    }
   ],
   "source": [
    "f1_score(gt_feat_joint_X,selected_feat_common_1)"
   ]
  },
  {
   "cell_type": "code",
   "execution_count": 114,
   "metadata": {},
   "outputs": [
    {
     "data": {
      "text/plain": [
       "0.88"
      ]
     },
     "execution_count": 114,
     "metadata": {},
     "output_type": "execute_result"
    }
   ],
   "source": [
    "f1_score(gt_feat_joint_Y,selected_feat_common_2)"
   ]
  },
  {
   "cell_type": "code",
   "execution_count": null,
   "metadata": {},
   "outputs": [],
   "source": [
    "# run mmdufs with diff op"
   ]
  },
  {
   "cell_type": "code",
   "execution_count": 115,
   "metadata": {},
   "outputs": [],
   "source": [
    "diff_mmdufs_params = {\n",
    "    \"lam1\":4, # lambda x\n",
    "    \"batch_size\":X_z.shape[0], # full batch\n",
    "    \"const\":1e-3,\n",
    "    \"const2\":1e-3\n",
    "}\n",
    "diff_mmdfus_learning_rate = 2\n",
    "display_step = 1000\n",
    "epochs = 10000"
   ]
  },
  {
   "cell_type": "code",
   "execution_count": 116,
   "metadata": {},
   "outputs": [],
   "source": [
    "diff_mmdufs_params[\"input_dim1\"] = X_z.shape[1]\n",
    "diff_mmdufs_params[\"input_dim2\"] = Y_z.shape[1]"
   ]
  },
  {
   "cell_type": "code",
   "execution_count": 117,
   "metadata": {
    "scrolled": true
   },
   "outputs": [
    {
     "name": "stdout",
     "output_type": "stream",
     "text": [
      "num_samples : 1000\n",
      "Epoch: 1000 loss= -2.276521921 score1= -2.985136747 reg1= 0.177153707 f1= 0.9126\n",
      "Epoch: 2000 loss= -2.275680780 score1= -2.983282089 reg1= 0.176900312 f1= 0.9126\n",
      "Epoch: 3000 loss= -2.278060675 score1= -2.985318661 reg1= 0.176814482 f1= 0.9126\n",
      "Epoch: 4000 loss= -2.278174400 score1= -2.985270977 reg1= 0.176774129 f1= 0.9126\n",
      "Epoch: 5000 loss= -2.278333426 score1= -2.985330343 reg1= 0.176749215 f1= 0.9126\n",
      "Epoch: 6000 loss= -2.278401852 score1= -2.985341787 reg1= 0.176734969 f1= 0.9126\n",
      "Epoch: 7000 loss= -2.278467655 score1= -2.985363960 reg1= 0.176724106 f1= 0.9126\n",
      "Epoch: 8000 loss= -2.278208971 score1= -2.985074043 reg1= 0.176716268 f1= 0.9126\n",
      "Epoch: 9000 loss= -2.278416157 score1= -2.985258341 reg1= 0.176710561 f1= 0.9126\n",
      "Epoch: 10000 loss= -2.278525591 score1= -2.985349894 reg1= 0.176706076 f1= 0.9126\n",
      "Optimization Finished!\n"
     ]
    }
   ],
   "source": [
    "dataset = DataSet(**{'_data1':X_z,\n",
    "                         '_data2':Y_z,\n",
    "                    })\n",
    "    \n",
    "diff_model1 = DiffModel(**diff_mmdufs_params) \n",
    "    \n",
    "diff_result1= diff_model1.train(dataset,\n",
    "                              learning_rate=diff_mmdfus_learning_rate,\n",
    "                        feature_label = gt_feat_diff_X.reshape(-1), \n",
    "                        display_step=display_step, \n",
    "                        num_epoch=epochs) #30000\n",
    "  "
   ]
  },
  {
   "cell_type": "code",
   "execution_count": 118,
   "metadata": {},
   "outputs": [
    {
     "data": {
      "text/plain": [
       "0.912621359223301"
      ]
     },
     "execution_count": 118,
     "metadata": {},
     "output_type": "execute_result"
    }
   ],
   "source": [
    "f1_score(gt_feat_diff_X.reshape(-1).astype(int),1*(diff_model1.get_prob_alpha1()==1).reshape(-1).astype(int))"
   ]
  },
  {
   "cell_type": "code",
   "execution_count": 119,
   "metadata": {},
   "outputs": [],
   "source": [
    "diff_mmdufs_params = {\n",
    "    \"lam1\":2, # lambda y\n",
    "    \"batch_size\":Y_z.shape[0], # full batch\n",
    "    \"const\":1e-3,\n",
    "    \"const2\":1e-3\n",
    "}\n",
    "diff_mmdfus_learning_rate = 2\n",
    "display_step = 1000\n",
    "epochs = 10000"
   ]
  },
  {
   "cell_type": "code",
   "execution_count": 120,
   "metadata": {},
   "outputs": [],
   "source": [
    "diff_mmdufs_params[\"input_dim1\"] = Y_z.shape[1]\n",
    "diff_mmdufs_params[\"input_dim2\"] = X_z.shape[1]"
   ]
  },
  {
   "cell_type": "code",
   "execution_count": 121,
   "metadata": {},
   "outputs": [
    {
     "name": "stdout",
     "output_type": "stream",
     "text": [
      "num_samples : 1000\n",
      "Epoch: 1000 loss= -1.173797607 score1= -1.502956271 reg1= 0.164579302 f1= 0.9091\n",
      "Epoch: 2000 loss= -1.180788398 score1= -1.508459568 reg1= 0.163835570 f1= 0.9091\n",
      "Epoch: 3000 loss= -1.182477474 score1= -1.509740591 reg1= 0.163631558 f1= 0.9091\n",
      "Epoch: 4000 loss= -1.182379007 score1= -1.509461164 reg1= 0.163541049 f1= 0.9091\n",
      "Epoch: 5000 loss= -1.181143761 score1= -1.508136511 reg1= 0.163496390 f1= 0.9091\n",
      "Epoch: 6000 loss= -1.183027983 score1= -1.509958506 reg1= 0.163465261 f1= 0.9091\n",
      "Epoch: 7000 loss= -1.183069706 score1= -1.509956002 reg1= 0.163443148 f1= 0.9091\n",
      "Epoch: 8000 loss= -1.183000445 score1= -1.509855390 reg1= 0.163427472 f1= 0.9091\n",
      "Epoch: 9000 loss= -1.183033109 score1= -1.509863853 reg1= 0.163415387 f1= 0.9091\n",
      "Epoch: 10000 loss= -1.183167338 score1= -1.509978414 reg1= 0.163405553 f1= 0.9091\n",
      "Optimization Finished!\n"
     ]
    }
   ],
   "source": [
    "dataset = DataSet(**{'_data1':Y_z,\n",
    "                         '_data2':X_z,\n",
    "                    })\n",
    "    \n",
    "diff_model2 = DiffModel(**diff_mmdufs_params) \n",
    "    \n",
    "diff_result2= diff_model2.train(dataset,\n",
    "                              learning_rate=diff_mmdfus_learning_rate,\n",
    "                        feature_label = gt_feat_diff_Y.reshape(-1), \n",
    "                        display_step=display_step, \n",
    "                        num_epoch=epochs) #30000\n",
    "  "
   ]
  },
  {
   "cell_type": "code",
   "execution_count": 122,
   "metadata": {},
   "outputs": [
    {
     "data": {
      "text/plain": [
       "0.9090909090909091"
      ]
     },
     "execution_count": 122,
     "metadata": {},
     "output_type": "execute_result"
    }
   ],
   "source": [
    "f1_score(gt_feat_diff_Y.reshape(-1).astype(int),1*(diff_model2.get_prob_alpha1()==1).reshape(-1).astype(int))"
   ]
  }
 ],
 "metadata": {
  "kernelspec": {
   "display_name": "Python 3",
   "language": "python",
   "name": "python3"
  },
  "language_info": {
   "codemirror_mode": {
    "name": "ipython",
    "version": 3
   },
   "file_extension": ".py",
   "mimetype": "text/x-python",
   "name": "python",
   "nbconvert_exporter": "python",
   "pygments_lexer": "ipython3",
   "version": "3.6.9"
  }
 },
 "nbformat": 4,
 "nbformat_minor": 4
}
